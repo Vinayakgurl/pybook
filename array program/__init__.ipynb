{
 "cells": [
  {
   "cell_type": "code",
   "execution_count": 78,
   "metadata": {},
   "outputs": [
    {
     "name": "stdout",
     "output_type": "stream",
     "text": [
      "chandrakant\n",
      "chandrakant\n",
      "1836153318176\n",
      "1836165262192\n",
      "1836189576256\n",
      "1836188507568\n",
      "1836189366832\n",
      "1838221127344\n",
      "both size are different\n"
     ]
    }
   ],
   "source": [
    "class compuetr:\n",
    "    def __init__(self):\n",
    "        self.name=\"chandrakant\"\n",
    "        self.aze=23\n",
    "        print(self.name)\n",
    "\n",
    "    def update(self):\n",
    "        self.name=\"navin\"\n",
    "        self.aze=45\n",
    "\n",
    "    def compare(self, other):\n",
    "        if self.aze==other.aze:\n",
    "            return True\n",
    "        else:\n",
    "            return False\n",
    "            \n",
    "\n",
    "    \n",
    "\n",
    "\n",
    "\n",
    "c1=compuetr()\n",
    "c2=compuetr()\n",
    "print(id(c1))\n",
    "print(id(c1.name))\n",
    "print(id(c2))\n",
    "print(id(id(c1.name)))\n",
    "c1.update()\n",
    "print(id(c1.name))\n",
    "\n",
    "print(id(c1.aze))\n",
    "if c1.compare(c2):\n",
    "    print(\"both aze are same\")\n",
    "\n",
    "else:\n",
    "    print(\"both size are different\")\n",
    "\n",
    "\n",
    "\n",
    "\n",
    "\n",
    "\n"
   ]
  },
  {
   "cell_type": "code",
   "execution_count": null,
   "metadata": {},
   "outputs": [],
   "source": []
  }
 ],
 "metadata": {
  "kernelspec": {
   "display_name": "base",
   "language": "python",
   "name": "python3"
  },
  "language_info": {
   "codemirror_mode": {
    "name": "ipython",
    "version": 3
   },
   "file_extension": ".py",
   "mimetype": "text/x-python",
   "name": "python",
   "nbconvert_exporter": "python",
   "pygments_lexer": "ipython3",
   "version": "3.9.13"
  },
  "orig_nbformat": 4
 },
 "nbformat": 4,
 "nbformat_minor": 2
}
