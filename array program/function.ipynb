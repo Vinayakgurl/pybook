{
 "cells": [
  {
   "cell_type": "code",
   "execution_count": 4,
   "metadata": {},
   "outputs": [
    {
     "name": "stdout",
     "output_type": "stream",
     "text": [
      "hi krishna\n"
     ]
    }
   ],
   "source": [
    "def fun(str):\n",
    "    return \"hi\"+\" \"+str\n",
    "\n",
    "a=fun (\"krishna\")\n",
    "print(a)\n"
   ]
  },
  {
   "attachments": {},
   "cell_type": "markdown",
   "metadata": {},
   "source": [
    "inner class and inner method "
   ]
  },
  {
   "cell_type": "code",
   "execution_count": 19,
   "metadata": {},
   "outputs": [
    {
     "name": "stdout",
     "output_type": "stream",
     "text": [
      "hi ganesh how are you\n"
     ]
    }
   ],
   "source": [
    "class A:\n",
    "\n",
    "    class B:\n",
    "   \n",
    "        def hi(self):\n",
    "            def by():\n",
    "                return \"hi ganesh\"\n",
    "            result=by() + \" \"+\"how are you\"\n",
    "            print(result)\n",
    "ac=A()\n",
    "bc=ac.B()\n",
    "bc.hi()\n",
    "\n",
    "\n"
   ]
  },
  {
   "cell_type": "code",
   "execution_count": 37,
   "metadata": {},
   "outputs": [
    {
     "name": "stdout",
     "output_type": "stream",
     "text": [
      "hi ganesh how are you\n",
      "removed exception\n"
     ]
    }
   ],
   "source": [
    "def hi():\n",
    "    \n",
    "    return \"hi\"\n",
    "def by():\n",
    "    return \"ganesh\"\n",
    "\n",
    "result=hi() +\" \" + by() + \" \"+\"how are you\"\n",
    "print(result)\n",
    "try:\n",
    "    print(hi(by()))\n",
    "\n",
    "except :\n",
    "    print(\"removed exception\")"
   ]
  },
  {
   "attachments": {},
   "cell_type": "markdown",
   "metadata": {},
   "source": [
    "Pass by Object refference"
   ]
  },
  {
   "cell_type": "code",
   "execution_count": 43,
   "metadata": {},
   "outputs": [
    {
     "name": "stdout",
     "output_type": "stream",
     "text": [
      "2147475810896\n",
      "10\n",
      "2147475811216\n",
      "20\n",
      "\n"
     ]
    }
   ],
   "source": [
    "a=10\n",
    "print(id(a))\n",
    "print(a)\n",
    "a=20\n",
    "print(id(a))\n",
    "\n",
    "print(a)\n",
    "\n"
   ]
  },
  {
   "cell_type": "code",
   "execution_count": 47,
   "metadata": {},
   "outputs": [
    {
     "name": "stdout",
     "output_type": "stream",
     "text": [
      "modify value  15 2147475811056\n",
      "10  id value for x is : 2147475810896\n"
     ]
    }
   ],
   "source": [
    "def modify(x):\n",
    "    x=15\n",
    "    print(\"modify value \",x,id(x))#    \n",
    "    \n",
    "x=10\n",
    "modify(x)\n",
    "print(x,\" id value for x is :\",id(x))\n",
    "#int,tup,string are  immutable  \n"
   ]
  },
  {
   "attachments": {},
   "cell_type": "markdown",
   "metadata": {},
   "source": [
    "python program to pass a list to a function and modify it "
   ]
  },
  {
   "cell_type": "code",
   "execution_count": 54,
   "metadata": {},
   "outputs": [
    {
     "name": "stdout",
     "output_type": "stream",
     "text": [
      "[1, 2, 3, 4, 90] 2145422946752\n",
      "[1, 2, 3, 4, 90] 2145422946752\n"
     ]
    }
   ],
   "source": [
    "def modify(lst):\n",
    "    lst.append(90)\n",
    "    print(lst,id(lst))\n",
    "\n",
    "lst=[1,2,3,4]\n",
    "modify(lst)\n",
    "print(lst,id(lst))\n",
    "#se here out put id value is same for both we conclude that modify lst and outside lst \n",
    "#reffering to same object list is mutable \n",
    "    "
   ]
  },
  {
   "attachments": {},
   "cell_type": "markdown",
   "metadata": {},
   "source": [
    "python program to creat a new object inside the function does not modify outside object"
   ]
  },
  {
   "cell_type": "code",
   "execution_count": 59,
   "metadata": {},
   "outputs": [
    {
     "name": "stdout",
     "output_type": "stream",
     "text": [
      "[1, 2, 3, 4] 2145422001408\n",
      "[2, 4, 5, 6] 2145408256192\n"
     ]
    }
   ],
   "source": [
    "def modify(lst):\n",
    "    lst=[1,2,3,4]\n",
    "    print(lst,id(lst))\n",
    "\n",
    "lst=[2,4,5,6]\n",
    "modify(lst)\n",
    "print(lst,id(lst))\n",
    "#here check output id value both are different so modify lst and outside lst both are \n",
    "#refering different object \n"
   ]
  },
  {
   "attachments": {},
   "cell_type": "markdown",
   "metadata": {},
   "source": [
    "Foraml argument and Actual argument "
   ]
  },
  {
   "cell_type": "code",
   "execution_count": 60,
   "metadata": {},
   "outputs": [
    {
     "name": "stdout",
     "output_type": "stream",
     "text": [
      "30\n"
     ]
    }
   ],
   "source": [
    "def sum(a,b):#formal argument \n",
    "    print(a+b)\n",
    "\n",
    "sum(10,20)#actual argument \n"
   ]
  },
  {
   "attachments": {},
   "cell_type": "markdown",
   "metadata": {},
   "source": [
    "Actual acrgument are 4 types\n",
    "1) positional argument : is same as above example\n",
    "2)Keyword Arguments:\n",
    "3)Default Arguments\n",
    "4)Variable-Length Arguments"
   ]
  },
  {
   "attachments": {},
   "cell_type": "markdown",
   "metadata": {},
   "source": [
    "Keyword argument"
   ]
  },
  {
   "cell_type": "code",
   "execution_count": 62,
   "metadata": {},
   "outputs": [
    {
     "name": "stdout",
     "output_type": "stream",
     "text": [
      "123 viresh\n",
      "<class 'int'>\n"
     ]
    }
   ],
   "source": [
    "def abc(id,name):\n",
    "    print(id,name)\n",
    "    print(type(id))\n",
    "\n",
    "abc(id=123,name=\"viresh\")#keyword argument \n"
   ]
  },
  {
   "attachments": {},
   "cell_type": "markdown",
   "metadata": {},
   "source": [
    "Variable length argument "
   ]
  },
  {
   "cell_type": "code",
   "execution_count": 70,
   "metadata": {},
   "outputs": [
    {
     "name": "stdout",
     "output_type": "stream",
     "text": [
      "id value 1\n",
      "2\n",
      "4\n",
      "5\n",
      "6\n",
      "67\n"
     ]
    }
   ],
   "source": [
    "def abc(id, *args):# *args it allow more than one value \n",
    "    print(\"id value\",id)\n",
    "    # type(*args)\n",
    "    for i in args:\n",
    "        print(i)\n",
    "        \n",
    "abc(1,2,4,5,6,67)\n",
    "# *args value are stored in the form of tuple"
   ]
  },
  {
   "cell_type": "code",
   "execution_count": 75,
   "metadata": {},
   "outputs": [
    {
     "name": "stdout",
     "output_type": "stream",
     "text": [
      "id value 1\n",
      "{'name': 'prakash', 'add': 'hubli'}\n"
     ]
    }
   ],
   "source": [
    "def abc(id, **args):# *args it allow more than one value \n",
    "    #  data stored in the form of dictionary\n",
    "    print(\"id value\",id)\n",
    "    # type(*args)\n",
    "    print(args)\n",
    "        \n",
    "abc(1,name=\"prakash\",add=\"hubli\")"
   ]
  },
  {
   "attachments": {},
   "cell_type": "markdown",
   "metadata": {},
   "source": [
    "Passing group of element to a function"
   ]
  },
  {
   "cell_type": "code",
   "execution_count": 80,
   "metadata": {},
   "outputs": [
    {
     "name": "stdout",
     "output_type": "stream",
     "text": [
      "[20, 20, 20, 20, 20]\n"
     ]
    }
   ],
   "source": [
    "las=[1,2,3,4,5]\n",
    "li=[a for i in las]\n",
    "print(li)\n"
   ]
  },
  {
   "attachments": {},
   "cell_type": "markdown",
   "metadata": {},
   "source": [
    "Passing a group of element to a function\n"
   ]
  },
  {
   "cell_type": "code",
   "execution_count": 1,
   "metadata": {},
   "outputs": [
    {
     "name": "stdout",
     "output_type": "stream",
     "text": [
      "enter the number with comma\n",
      "<class 'list'>\n",
      "41\n",
      "avg of lst 4.555555555555555\n"
     ]
    }
   ],
   "source": [
    "def sum(lst):\n",
    "    sum=0\n",
    "    n=len(lst)\n",
    "    add=0\n",
    "    for i in range(len(lst)):\n",
    "        \n",
    "        sum=sum+lst[i]\n",
    "        add=add+i\n",
    "        \n",
    "\n",
    "    print(sum)\n",
    "    print(\"avg of lst\",sum/n)\n",
    "\n",
    "print(\"enter the number with comma\")    \n",
    "lst=[int(i) for i in input().split()]\n",
    "print(type(lst))\n",
    "sum(lst)"
   ]
  },
  {
   "cell_type": "code",
   "execution_count": 4,
   "metadata": {},
   "outputs": [
    {
     "name": "stdout",
     "output_type": "stream",
     "text": [
      "Factorial of number 6 = 720\n"
     ]
    }
   ],
   "source": [
    "# Program to print factorial of a number\n",
    "# recursively.\n",
    "\n",
    "# Recursive function\n",
    "def recursive_factorial(n):\n",
    "\tif n == 1:\n",
    "\t\treturn n\n",
    "\telse:\n",
    "\t\treturn n * recursive_factorial(n-1)\n",
    "\n",
    "# user input\n",
    "num = 6\n",
    "\n",
    "# check if the input is valid or not\n",
    "if num < 0:\n",
    "\tprint(\"Invalid input ! Please enter a positive number.\")\n",
    "elif num == 0:\n",
    "\tprint(\"Factorial of number 0 is 1\")\n",
    "else:\n",
    "\tprint(\"Factorial of number\", num, \"=\", recursive_factorial(num))\n",
    "\n",
    "\n"
   ]
  }
 ],
 "metadata": {
  "kernelspec": {
   "display_name": "base",
   "language": "python",
   "name": "python3"
  },
  "language_info": {
   "codemirror_mode": {
    "name": "ipython",
    "version": 3
   },
   "file_extension": ".py",
   "mimetype": "text/x-python",
   "name": "python",
   "nbconvert_exporter": "python",
   "pygments_lexer": "ipython3",
   "version": "3.9.13"
  },
  "orig_nbformat": 4
 },
 "nbformat": 4,
 "nbformat_minor": 2
}
