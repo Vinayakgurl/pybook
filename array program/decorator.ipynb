{
 "cells": [
  {
   "cell_type": "markdown",
   "metadata": {},
   "source": []
  },
  {
   "attachments": {},
   "cell_type": "markdown",
   "metadata": {},
   "source": [
    "Decorator are the function that accept a function as a parameter and return a functioin "
   ]
  },
  {
   "cell_type": "code",
   "execution_count": 1,
   "metadata": {},
   "outputs": [
    {
     "name": "stdout",
     "output_type": "stream",
     "text": [
      "1.125\n"
     ]
    }
   ],
   "source": [
    "def div(a,b):\n",
    "    print(a/b)\n",
    "\n",
    "def smart_div(fun):\n",
    "    def inner(a,b):\n",
    "            \n",
    "        if a<b:\n",
    "            a,b=b,a\n",
    "        return fun\n",
    "    return inner\n",
    "\n",
    "div1=smart_div(div)\n",
    "div(9,8)\n",
    "\n",
    "\n"
   ]
  },
  {
   "cell_type": "code",
   "execution_count": 55,
   "metadata": {},
   "outputs": [
    {
     "name": "stdout",
     "output_type": "stream",
     "text": [
      "25\n"
     ]
    }
   ],
   "source": [
    "class A:\n",
    "    def create_adder(self,x):\n",
    "        def adder(y):\n",
    "            return x+y\n",
    "    \n",
    "        return adder\n",
    "add_15=A()\n",
    "a=add_15.create_adder(15)\n",
    "result=a(10) #  \n",
    "print(result)\n",
    " "
   ]
  },
  {
   "cell_type": "code",
   "execution_count": 48,
   "metadata": {},
   "outputs": [
    {
     "name": "stdout",
     "output_type": "stream",
     "text": [
      "25\n"
     ]
    }
   ],
   "source": [
    "class A:\n",
    "    def create_adder(self, x):\n",
    "        def adder(y):\n",
    "            return x + y\n",
    "    \n",
    "        return adder\n",
    "\n",
    "add_15 = A()\n",
    "add_function = add_15.create_adder(15)  # Call create_adder to get the inner adder function\n",
    "\n",
    "result = add_function(10)  # Call the inner adder function to perform the addition\n",
    "print(result)  # Output: 25\n"
   ]
  },
  {
   "cell_type": "code",
   "execution_count": 60,
   "metadata": {},
   "outputs": [
    {
     "name": "stdout",
     "output_type": "stream",
     "text": [
      "Something is happening before the function is called.\n",
      "Hello!\n",
      "Something is happening after the function is called.\n"
     ]
    }
   ],
   "source": [
    "def my_decorator(func):\n",
    "    def wrapper():\n",
    "        print(\"Something is happening before the function is called.\")\n",
    "        func()\n",
    "        print(\"Something is happening after the function is called.\")\n",
    "    return wrapper\n",
    "\n",
    "@my_decorator\n",
    "def say_hello():\n",
    "    print(\"Hello!\")\n",
    "\n",
    "say_hello()\n"
   ]
  },
  {
   "cell_type": "code",
   "execution_count": 77,
   "metadata": {},
   "outputs": [
    {
     "name": "stdout",
     "output_type": "stream",
     "text": [
      "hi man\n"
     ]
    }
   ],
   "source": [
    "\n",
    "\n",
    "def by():\n",
    "    def good():\n",
    "        \n",
    "        return \"hi man\"\n",
    "    \n",
    "    return good\n",
    "a=by()\n",
    "av=a()\n",
    "print(av)\n",
    "\n",
    "\n",
    "\n",
    "\n"
   ]
  },
  {
   "cell_type": "code",
   "execution_count": 87,
   "metadata": {},
   "outputs": [
    {
     "name": "stdout",
     "output_type": "stream",
     "text": [
      "32\n"
     ]
    }
   ],
   "source": [
    "def decor(fun):\n",
    "    def inner():\n",
    "        value=fun() #call the num function and return the value 10 give method name whatwere \n",
    "        return value+2 # value=10\n",
    "    return inner # return  12 \n",
    "@decor #call the decor function \n",
    "def num():\n",
    "    return 10+20\n",
    "print(num())"
   ]
  },
  {
   "cell_type": "code",
   "execution_count": 88,
   "metadata": {},
   "outputs": [
    {
     "name": "stdout",
     "output_type": "stream",
     "text": [
      "32\n"
     ]
    }
   ],
   "source": [
    "def decor(ad):\n",
    "    def inner():\n",
    "        value=ad() #call the num function and return the value 10 give method name whatwere \n",
    "        return value+2 # value=10\n",
    "    return inner # return  12 \n",
    "@decor #call the decor function \n",
    "def num():\n",
    "    return 10+20\n",
    "print(num())"
   ]
  },
  {
   "attachments": {},
   "cell_type": "markdown",
   "metadata": {},
   "source": [
    "Decorator without using using symbol"
   ]
  },
  {
   "cell_type": "code",
   "execution_count": 102,
   "metadata": {},
   "outputs": [
    {
     "name": "stdout",
     "output_type": "stream",
     "text": [
      "22\n"
     ]
    }
   ],
   "source": [
    "def decor(fun):\n",
    "    value=fun()\n",
    "    return value+2\n",
    "def decor1(fun):\n",
    "    def inner():\n",
    "        value=fun()\n",
    "        return value*2\n",
    "    return inner\n",
    "\n",
    "def num():\n",
    "    value=10\n",
    "    return value\n",
    "\n",
    "\n",
    "\n",
    "result=decor(decor1(num))\n",
    "print(result)\n",
    "\n"
   ]
  },
  {
   "attachments": {},
   "cell_type": "markdown",
   "metadata": {},
   "source": [
    "Decorator using @  symbol"
   ]
  },
  {
   "cell_type": "code",
   "execution_count": 105,
   "metadata": {},
   "outputs": [
    {
     "name": "stdout",
     "output_type": "stream",
     "text": [
      "22\n"
     ]
    }
   ],
   "source": [
    "def decor(fun):\n",
    "    value=fun()\n",
    "    return value+2\n",
    "def decor1(fun):\n",
    "    def inner():\n",
    "        value=fun()\n",
    "        return value*2\n",
    "    return inner\n",
    "\n",
    "@decor\n",
    "@decor1 # it will run first\n",
    "\n",
    "def num():\n",
    "    value=10\n",
    "    return value\n",
    "print(num)\n",
    "\n",
    "# result=decor(decor1(num)) in above program we used this  but in this program @ symbol\n",
    "# print(result)\n",
    "\n"
   ]
  },
  {
   "cell_type": "code",
   "execution_count": null,
   "metadata": {},
   "outputs": [],
   "source": []
  }
 ],
 "metadata": {
  "kernelspec": {
   "display_name": "base",
   "language": "python",
   "name": "python3"
  },
  "language_info": {
   "codemirror_mode": {
    "name": "ipython",
    "version": 3
   },
   "file_extension": ".py",
   "mimetype": "text/x-python",
   "name": "python",
   "nbconvert_exporter": "python",
   "pygments_lexer": "ipython3",
   "version": "3.9.13"
  },
  "orig_nbformat": 4
 },
 "nbformat": 4,
 "nbformat_minor": 2
}
