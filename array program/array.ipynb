{
 "cells": [
  {
   "cell_type": "code",
   "execution_count": null,
   "metadata": {},
   "outputs": [
    {
     "name": "stdout",
     "output_type": "stream",
     "text": [
      "array('i', [1, 2, 3, 4])\n"
     ]
    }
   ],
   "source": [
    "import array as ar \n",
    "arr=ar.array(\"i\",[1,2,3,4])\n",
    "print(arr)"
   ]
  },
  {
   "cell_type": "code",
   "execution_count": null,
   "metadata": {},
   "outputs": [
    {
     "name": "stdout",
     "output_type": "stream",
     "text": [
      "array('i', [1, 2, 3, 4])\n"
     ]
    }
   ],
   "source": [
    "# import array as ar\n",
    "arr = ar.array(\"i\", [1, 2, 3, 4])\n",
    "print(arr)\n"
   ]
  },
  {
   "cell_type": "code",
   "execution_count": null,
   "metadata": {},
   "outputs": [
    {
     "name": "stdout",
     "output_type": "stream",
     "text": [
      "array('i', [2, 3, 5])\n"
     ]
    }
   ],
   "source": [
    "import array as ar\n",
    "arr=ar.array(\"i\",[1,2,3,5,6])\n",
    "ap=arr[1:4]\n",
    "print(ap)\n"
   ]
  },
  {
   "cell_type": "code",
   "execution_count": null,
   "metadata": {},
   "outputs": [
    {
     "name": "stdout",
     "output_type": "stream",
     "text": [
      "u \n",
      "\n",
      "a \n",
      "\n",
      "b \n",
      "\n",
      "c \n",
      "\n",
      "d \n",
      "\n",
      "e \n",
      "\n"
     ]
    }
   ],
   "source": [
    "import array as ar\n",
    "a=ar.array(\"u\",[\"u\",\"a\",\"b\",\"c\",\"d\",\"e\"])\n",
    "for i in a:\n",
    "    print(i,\"\\n\")"
   ]
  },
  {
   "attachments": {},
   "cell_type": "markdown",
   "metadata": {},
   "source": [
    "Adding two array"
   ]
  },
  {
   "cell_type": "code",
   "execution_count": 2,
   "metadata": {},
   "outputs": [
    {
     "name": "stdout",
     "output_type": "stream",
     "text": [
      "array('i', [3, 6, 9, 105])\n"
     ]
    }
   ],
   "source": [
    "import array as ar\n",
    "arr=ar.array('i',[1,2,3,35])\n",
    "arr2=ar.array(arr.typecode,(a * 3 for a in arr ))\n",
    "print(arr2)"
   ]
  },
  {
   "cell_type": "code",
   "execution_count": null,
   "metadata": {},
   "outputs": [
    {
     "name": "stdout",
     "output_type": "stream",
     "text": [
      "array('i', [3, 6, 9, 105])\n"
     ]
    }
   ],
   "source": [
    "import array as ar\n",
    "\n",
    "arr = ar.array('i', [1, 2, 3, 35])\n",
    "arr2 = ar.array(\"i\", (a * 3 for a in arr))\n",
    "\n",
    "print(arr2)\n"
   ]
  },
  {
   "attachments": {},
   "cell_type": "markdown",
   "metadata": {},
   "source": [
    "retrieve the element of an array using array index"
   ]
  },
  {
   "cell_type": "code",
   "execution_count": null,
   "metadata": {},
   "outputs": [
    {
     "name": "stdout",
     "output_type": "stream",
     "text": [
      "1 2 3 4 5 "
     ]
    }
   ],
   "source": [
    "import array as ar\n",
    "a=ar.array(\"i\",[1,2,3,4,5])\n",
    "for i in range(len(a)):\n",
    "    print(a[i],end=\" \")# end space gives print data in same line "
   ]
  },
  {
   "attachments": {},
   "cell_type": "markdown",
   "metadata": {},
   "source": [
    "retrieve the element of an array using while loop"
   ]
  },
  {
   "cell_type": "code",
   "execution_count": null,
   "metadata": {},
   "outputs": [
    {
     "name": "stdout",
     "output_type": "stream",
     "text": [
      "1 2 3 4 5 "
     ]
    }
   ],
   "source": [
    "import array as ar\n",
    "a=ar.array(\"i\",[1,2,3,4,5])\n",
    "n=len(a)\n",
    "i=0\n",
    "while i<n:\n",
    "    print(a[i],end=\" \")\n",
    "    i+=1\n"
   ]
  },
  {
   "attachments": {},
   "cell_type": "markdown",
   "metadata": {},
   "source": [
    "Slicing operation "
   ]
  },
  {
   "cell_type": "code",
   "execution_count": 5,
   "metadata": {},
   "outputs": [
    {
     "name": "stdout",
     "output_type": "stream",
     "text": [
      "array('i', [6, 3])\n",
      "array('i', [2, 1, 6, 3])\n",
      "array('i', [4, 5])\n",
      "array('i', [6, 3, 4, 5])\n",
      "array('i', [2, 1, 6, 3, 4])\n",
      "array('i', [2, 6])\n"
     ]
    }
   ],
   "source": [
    "import array as ar\n",
    "a=ar.array(\"i\",[2,1,6,3,4,5])\n",
    "print(a[2:4])\n",
    "print(a[:4])\n",
    "print(a[4:])\n",
    "print(a[-4:])\n",
    "print(a[ :-1])# check seriosly\n",
    "print(a[0:4:2])\n",
    "\n"
   ]
  },
  {
   "attachments": {},
   "cell_type": "markdown",
   "metadata": {},
   "source": [
    "Array methods"
   ]
  },
  {
   "cell_type": "code",
   "execution_count": 3,
   "metadata": {},
   "outputs": [
    {
     "name": "stdout",
     "output_type": "stream",
     "text": [
      "array('i', [1, 2, 3, 4, 5, 30])\n",
      "1\n",
      "array('i', [1, 2, 3, 4, 5, 30, 10, 20, 30, 40, 50])\n",
      "printing a index  value of  20 number = 7\n",
      "iserting the 2 value in index 7   array('i', [1, 2, 3, 4, 5, 30, 10, 2, 20, 30, 40, 50])\n",
      "removing index(5) value(30) 30 is removing  array('i', [1, 2, 3, 4, 5, 10, 2, 20, 30, 40, 50])\n",
      ",remove method  array('i', [1, 3, 4, 5, 10, 2, 20, 30, 40, 50])\n",
      "converting array to to list [1, 3, 4, 5, 10, 2, 20, 30, 40, 50]\n"
     ]
    }
   ],
   "source": [
    "import array as ar\n",
    "a=ar.array(\"i\",[1,2,3,4,5])\n",
    "a.append(30)\n",
    "print(a)\n",
    "print(a.count(1))#count the value of occurance\n",
    "lst=[10,20,30,40,50]\n",
    "a.fromlist(lst)#appending list value to array\n",
    "print(a)\n",
    "print(\"printing a index  value of  20 number =\",a.index(20))\n",
    "a.insert(7,2)\n",
    "print(\"iserting the 2 value in index 7  \",a)\n",
    "a.pop(5)#here we specifieng index value \n",
    "print(\"removing index(5) value(30) 30 is removing \",a)\n",
    "a.remove(2)#remove method is removing the first ocurance value here\n",
    "# we are specifieng value in array \n",
    "print(\",remove method \",a)\n",
    "#converting array to list\n",
    "c=a.tolist()\n",
    "print(\"converting array to to list\",c)\n",
    "#converting array to string\n",
    "\n"
   ]
  },
  {
   "attachments": {},
   "cell_type": "markdown",
   "metadata": {},
   "source": []
  },
  {
   "attachments": {},
   "cell_type": "markdown",
   "metadata": {},
   "source": [
    "storing student marks and total marks percentage"
   ]
  },
  {
   "cell_type": "code",
   "execution_count": null,
   "metadata": {},
   "outputs": [
    {
     "name": "stdout",
     "output_type": "stream",
     "text": [
      "[50, 50, 50, 50, 50, 50, 50, 50, 50, 50]\n",
      "Total marks: 500\n",
      "83.33333333333333\n"
     ]
    }
   ],
   "source": [
    "import array as ar\n",
    "\n",
    "lst = [int(i) for i in input(\"Enter the student marks (comma-separated): \").split(\",\")]\n",
    "print(lst)\n",
    "marks = ar.array(\"i\", lst)\n",
    "total_marks = sum(marks)\n",
    "print(\"Total marks:\", total_marks)\n",
    "percentage=total_marks*100/600\n",
    "print(percentage)\n",
    "\n",
    "\n"
   ]
  },
  {
   "attachments": {},
   "cell_type": "markdown",
   "metadata": {},
   "source": [
    "working with numpy with array"
   ]
  },
  {
   "cell_type": "code",
   "execution_count": null,
   "metadata": {},
   "outputs": [
    {
     "name": "stdout",
     "output_type": "stream",
     "text": [
      "[ 1  2  3  4 56]\n"
     ]
    }
   ],
   "source": [
    "import numpy as np\n",
    "arr=np.array([1,2,3,4,56])# single dimenstional array\n",
    "print(arr)"
   ]
  },
  {
   "attachments": {},
   "cell_type": "markdown",
   "metadata": {},
   "source": [
    "#line space in numpy"
   ]
  },
  {
   "cell_type": "code",
   "execution_count": null,
   "metadata": {},
   "outputs": [
    {
     "name": "stdout",
     "output_type": "stream",
     "text": [
      "[ 0.   2.5  5.   7.5 10. ]\n",
      "[1.00000000e+00 3.16227766e+02 1.00000000e+05 3.16227766e+07\n",
      " 1.00000000e+10]\n"
     ]
    }
   ],
   "source": [
    "import numpy as np\n",
    "# number start with 0 and end with 10 then 0 to  10 digits are equally divided into 5 digits \n",
    "# like equally 5 that is 0,2.5,5,7.5,10\n",
    "arr=np.linspace(0,10,5)\n",
    "print(arr)\n",
    "ar2=np.logspace(0,10,5)\n",
    "print(ar2)\n"
   ]
  },
  {
   "cell_type": "code",
   "execution_count": null,
   "metadata": {},
   "outputs": [
    {
     "name": "stdout",
     "output_type": "stream",
     "text": [
      "[4 5 6 7 8 9]\n",
      "[0. 0. 0. 0. 0. 0. 0. 0. 0. 0.]\n",
      "[[1. 1. 1.]\n",
      " [1. 1. 1.]]\n"
     ]
    }
   ],
   "source": [
    "ar=np.arange(4,10)\n",
    "print(ar)\n",
    "one=np.ones(6).reshape(2,3)\n",
    "zers=np.zeros(10)\n",
    "print(zers)\n",
    "print(one)\n",
    "# print(ar)"
   ]
  },
  {
   "attachments": {},
   "cell_type": "markdown",
   "metadata": {},
   "source": [
    "Comparing arrays and \"any()\",and \"all()\" function"
   ]
  },
  {
   "cell_type": "code",
   "execution_count": null,
   "metadata": {},
   "outputs": [
    {
     "name": "stdout",
     "output_type": "stream",
     "text": [
      "comparing each value in both array [ True False False  True False]\n",
      "comparing each value in arr1 and arr2 [False False False False  True]\n",
      "any on element is bigger in arr1 it will print true: True\n",
      "False\n"
     ]
    }
   ],
   "source": [
    "import numpy as np\n",
    "arr1=np.array([10,20,30,78,95])\n",
    "arr2=np.array([10,50,100,78,90])\n",
    "\n",
    "c=arr1==arr2\n",
    "print(\"comparing each value in both array\",c)\n",
    "d=arr1>arr2\n",
    "print(\"comparing each value in arr1 and arr2\",d)\n",
    "print(\"any on element is bigger in arr1 it will print true:\",any(c))\n",
    "# all method :all arr1 is greater than all arr2 elment  then it will print true oter wise falls\n",
    "print(all(c))\n",
    "\n",
    "\n",
    "\n"
   ]
  },
  {
   "attachments": {},
   "cell_type": "markdown",
   "metadata": {},
   "source": [
    "Where function"
   ]
  },
  {
   "cell_type": "code",
   "execution_count": null,
   "metadata": {},
   "outputs": [
    {
     "name": "stdout",
     "output_type": "stream",
     "text": [
      "[12  0  4 54  0]\n"
     ]
    }
   ],
   "source": [
    "import numpy as np\n",
    "ar=np.array([12,3,4,54,5])\n",
    "#it will check each elemet is mod of 2==0 then it will that store int c or if condition \n",
    "# falls then it will store o to c\n",
    "c=np.where(ar%2==0,ar,0)\n",
    "print(c)\n",
    "ar2"
   ]
  },
  {
   "cell_type": "code",
   "execution_count": null,
   "metadata": {},
   "outputs": [
    {
     "name": "stdout",
     "output_type": "stream",
     "text": [
      "[[1 2 3]\n",
      " [4 5 6]\n",
      " [7 8 9]]\n",
      "length of array  3\n",
      "1\n",
      "2\n",
      "3\n",
      "4\n",
      "5\n",
      "6\n",
      "7\n",
      "8\n",
      "9\n",
      "[1 2 3]\n"
     ]
    }
   ],
   "source": [
    "import array as ar\n",
    "import numpy as np\n",
    "a=np.array([[1,2,3],\n",
    "            [4,5,6],\n",
    "            [7,8,9]])\n",
    "print(a)\n",
    "print(\"length of array \",len(a))\n",
    "for i in range(len(a)):\n",
    "    for j in range(len(a)):\n",
    "        print(a[i][j],end=\"\\n\")\n",
    "# print(a[0][0])\n",
    "print(a[0])"
   ]
  },
  {
   "cell_type": "code",
   "execution_count": null,
   "metadata": {},
   "outputs": [
    {
     "name": "stdout",
     "output_type": "stream",
     "text": [
      "[1 2 3]\n",
      "[1 4 7]\n",
      "1\n"
     ]
    }
   ],
   "source": [
    "import array as ar\n",
    "import numpy as np\n",
    "a=np.array([[1,2,3],\n",
    "            [4,5,6],\n",
    "            [7,8,9]])\n",
    "print(a[0,:])\n",
    "print(a[:,0])\n",
    "print(a[0][0])"
   ]
  },
  {
   "attachments": {},
   "cell_type": "markdown",
   "metadata": {},
   "source": [
    "3D array"
   ]
  },
  {
   "cell_type": "code",
   "execution_count": null,
   "metadata": {},
   "outputs": [
    {
     "name": "stdout",
     "output_type": "stream",
     "text": [
      "3\n",
      "5\n",
      "[1 2 3]\n"
     ]
    }
   ],
   "source": [
    "import array as ar\n",
    "import numpy as np\n",
    "# here two arrays are there that is 0 and 1  inside each array having two rows 3 column simmilar to 1 sta array\n",
    "a=np.array([[[1,2,3],\n",
    "             [4,5,6]] ,\n",
    "            [[7,8,9],\n",
    "             [10,11,12]]])\n",
    "print(a.ndim)\n",
    "print(a[0][1][1])\n",
    "print(a[0][0])"
   ]
  },
  {
   "attachments": {},
   "cell_type": "markdown",
   "metadata": {},
   "source": [
    "Matrix"
   ]
  },
  {
   "cell_type": "code",
   "execution_count": 16,
   "metadata": {},
   "outputs": [
    {
     "ename": "TypeError",
     "evalue": "array() takes at most 2 arguments (3 given)",
     "output_type": "error",
     "traceback": [
      "\u001b[1;31m---------------------------------------------------------------------------\u001b[0m",
      "\u001b[1;31mTypeError\u001b[0m                                 Traceback (most recent call last)",
      "\u001b[1;32m~\\AppData\\Local\\Temp\\ipykernel_8964\\3896900943.py\u001b[0m in \u001b[0;36m<module>\u001b[1;34m\u001b[0m\n\u001b[0;32m      1\u001b[0m \u001b[1;32mimport\u001b[0m \u001b[0marray\u001b[0m \u001b[1;32mas\u001b[0m \u001b[0mar\u001b[0m\u001b[1;33m\u001b[0m\u001b[1;33m\u001b[0m\u001b[0m\n\u001b[0;32m      2\u001b[0m \u001b[1;32mimport\u001b[0m \u001b[0mnumpy\u001b[0m \u001b[1;32mas\u001b[0m \u001b[0mnp\u001b[0m\u001b[1;33m\u001b[0m\u001b[1;33m\u001b[0m\u001b[0m\n\u001b[1;32m----> 3\u001b[1;33m \u001b[0marr\u001b[0m\u001b[1;33m=\u001b[0m\u001b[0mar\u001b[0m\u001b[1;33m.\u001b[0m\u001b[0marray\u001b[0m\u001b[1;33m(\u001b[0m\u001b[1;34m\"i\"\u001b[0m\u001b[1;33m,\u001b[0m\u001b[1;33m[\u001b[0m\u001b[1;36m1\u001b[0m\u001b[1;33m,\u001b[0m\u001b[1;36m2\u001b[0m\u001b[1;33m]\u001b[0m\u001b[1;33m,\u001b[0m\u001b[1;33m[\u001b[0m\u001b[1;36m5\u001b[0m\u001b[1;33m,\u001b[0m\u001b[1;36m78\u001b[0m\u001b[1;33m]\u001b[0m\u001b[1;33m)\u001b[0m\u001b[1;33m\u001b[0m\u001b[1;33m\u001b[0m\u001b[0m\n\u001b[0m\u001b[0;32m      4\u001b[0m \u001b[0ma\u001b[0m\u001b[1;33m=\u001b[0m\u001b[0mar\u001b[0m\u001b[1;33m.\u001b[0m\u001b[0mmatrix\u001b[0m\u001b[1;33m(\u001b[0m\u001b[0marr\u001b[0m\u001b[1;33m)\u001b[0m\u001b[1;33m\u001b[0m\u001b[1;33m\u001b[0m\u001b[0m\n\u001b[0;32m      5\u001b[0m \u001b[0mprint\u001b[0m\u001b[1;33m(\u001b[0m\u001b[0ma\u001b[0m\u001b[1;33m,\u001b[0m\u001b[0mtype\u001b[0m\u001b[1;33m(\u001b[0m\u001b[0ma\u001b[0m\u001b[1;33m)\u001b[0m\u001b[1;33m)\u001b[0m\u001b[1;33m\u001b[0m\u001b[1;33m\u001b[0m\u001b[0m\n",
      "\u001b[1;31mTypeError\u001b[0m: array() takes at most 2 arguments (3 given)"
     ]
    }
   ],
   "source": [
    "import array as ar\n",
    "import numpy as np\n",
    "arr=ar.array(\"i\",[1,2],[5,78])\n",
    "a=ar.matrix(arr)\n",
    "print(a,type(a))\n",
    "# array works only single dimension  so this is error"
   ]
  },
  {
   "cell_type": "code",
   "execution_count": 20,
   "metadata": {},
   "outputs": [
    {
     "name": "stdout",
     "output_type": "stream",
     "text": [
      "[[ 1  2]\n",
      " [ 5 78]] <class 'numpy.matrix'>\n"
     ]
    }
   ],
   "source": [
    "import array as ar\n",
    "import numpy as np\n",
    "arr=np.array(([1,2],[5,78]))# two parentisis involved \n",
    "a=np.matrix(arr)\n",
    "print(a,type(a))\n",
    "# array works only single dimension  so this is error"
   ]
  },
  {
   "cell_type": "code",
   "execution_count": 36,
   "metadata": {},
   "outputs": [
    {
     "name": "stdout",
     "output_type": "stream",
     "text": [
      "[[ 1  2]\n",
      " [ 5 78]] <class 'numpy.matrix'>\n",
      "printing diagonal element\n",
      "[[ 1 78]]\n",
      "printing maximum value inmatrix 78\n",
      "printing minimum value 1\n",
      "printing sum of the matrix 86\n",
      "printing product column wise =  [[  5 156]]\n",
      "printing product of matrix row wise = [[  2]\n",
      " [390]]\n"
     ]
    }
   ],
   "source": [
    "import array as ar\n",
    "import numpy as np\n",
    "arr=np.array(([1,2],[5,78]))# two parentisis involved \n",
    "a=np.matrix(arr)\n",
    "print(a,type(a))\n",
    "\n",
    "print(\"printing diagonal element\")\n",
    "print(a.diagonal())# printing diagonal element\n",
    "print(\"printing maximum value inmatrix\",a.max())\n",
    "print(\"printing minimum value\",a.min())\n",
    "print(\"printing sum of the matrix\",a.sum())\n",
    "print(\"printing product column wise = \",a.prod(0))#colum wise should write prod(0)\n",
    "# like 5X1 and 78X2\n",
    "print(\"printing product of matrix row wise =\",a.prod(1))#row wise should write prod(1)\n",
    "\n",
    "\n",
    "\n"
   ]
  },
  {
   "attachments": {},
   "cell_type": "markdown",
   "metadata": {},
   "source": [
    "Sorting matrix"
   ]
  },
  {
   "cell_type": "code",
   "execution_count": 54,
   "metadata": {},
   "outputs": [
    {
     "name": "stdout",
     "output_type": "stream",
     "text": [
      "[[1 4 5]\n",
      " [3 7 9]]\n",
      "------------------------------------------------------------------\n",
      "printig the element in asending order from colum wise because axis=0 = \n",
      " [[4 5 1]\n",
      " [9 7 3]]\n"
     ]
    }
   ],
   "source": [
    "# import numpy as np\n",
    "m=np.matrix([[4,5,1],[9,7,3]])\n",
    "# print(m)\n",
    "print(np.sort(m))# by default axis become one it arrangig the elment in asending order\n",
    "#  from row wise\n",
    "print(\"------------------------------------------------------------------\")\n",
    "print(\"printig the element in asending order from colum wise because axis=0 =\",\"\\n\",\n",
    "      np.sort(m,axis=0)) "
   ]
  },
  {
   "cell_type": "code",
   "execution_count": 64,
   "metadata": {},
   "outputs": [
    {
     "name": "stdout",
     "output_type": "stream",
     "text": [
      "printing original matrix \n",
      " [[1 2 3]\n",
      " [4 5 6]\n",
      " [7 8 9]]\n",
      "printing the transpose matrix  \n",
      " [[1 4 7]\n",
      " [2 5 8]\n",
      " [3 6 9]]\n"
     ]
    }
   ],
   "source": [
    "import numpy as np\n",
    "class a:\n",
    "    m=np.matrix([[1,2,3],[4,5,6],[7,8,9]])\n",
    "    print(\"printing original matrix\",\"\\n\",m)\n",
    "    print(\"printing the transpose matrix \", \"\\n\" , m.transpose())"
   ]
  },
  {
   "attachments": {},
   "cell_type": "markdown",
   "metadata": {},
   "source": [
    "Accept the matrix from keybord "
   ]
  },
  {
   "cell_type": "code",
   "execution_count": 142,
   "metadata": {},
   "outputs": [
    {
     "name": "stdout",
     "output_type": "stream",
     "text": [
      "1,2,3 4,5,6\n"
     ]
    }
   ],
   "source": [
    "\n"
   ]
  },
  {
   "cell_type": "code",
   "execution_count": 139,
   "metadata": {},
   "outputs": [
    {
     "name": "stdout",
     "output_type": "stream",
     "text": [
      "['1,2,3']\n",
      "['1', '2', '3']\n",
      "1\n",
      "2\n",
      "3\n",
      "[1 2 3]\n",
      "1\n",
      "2\n",
      "3\n"
     ]
    }
   ],
   "source": [
    "list1=np.array([\"1,2,3\"])\n",
    "print(list1)\n",
    "li=[]\n",
    "for i in list1:\n",
    "    a=i.split(\",\")\n",
    "    print(a)\n",
    "\n",
    "\n",
    "for i in a:\n",
    "    ab=int(i)\n",
    "    print(ab)\n",
    "    li.append(ab)\n",
    "arra3=np.array(li)\n",
    "print(arra3)\n",
    "for i in arra3:\n",
    "    print(i)\n",
    "\n",
    "\n"
   ]
  },
  {
   "cell_type": "code",
   "execution_count": 112,
   "metadata": {},
   "outputs": [
    {
     "name": "stdout",
     "output_type": "stream",
     "text": [
      "['1', '2', '3']\n"
     ]
    },
    {
     "data": {
      "text/plain": [
       "[1, 2, 3]"
      ]
     },
     "execution_count": 112,
     "metadata": {},
     "output_type": "execute_result"
    }
   ],
   "source": [
    "list1=[\"1,2,3\"]\n",
    "li=[]\n",
    "for i in list1:\n",
    "    a=i.split(\",\")\n",
    "    \n",
    "print(a)\n",
    "for i in a:\n",
    "    li.append(int(i))\n",
    "li"
   ]
  },
  {
   "cell_type": "code",
   "execution_count": null,
   "metadata": {},
   "outputs": [],
   "source": []
  }
 ],
 "metadata": {
  "kernelspec": {
   "display_name": "base",
   "language": "python",
   "name": "python3"
  },
  "language_info": {
   "codemirror_mode": {
    "name": "ipython",
    "version": 3
   },
   "file_extension": ".py",
   "mimetype": "text/x-python",
   "name": "python",
   "nbconvert_exporter": "python",
   "pygments_lexer": "ipython3",
   "version": "3.9.13"
  },
  "orig_nbformat": 4
 },
 "nbformat": 4,
 "nbformat_minor": 2
}
