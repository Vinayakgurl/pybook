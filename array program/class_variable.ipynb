{
 "cells": [
  {
   "attachments": {},
   "cell_type": "markdown",
   "metadata": {},
   "source": [
    "Instance varible"
   ]
  },
  {
   "cell_type": "code",
   "execution_count": 6,
   "metadata": {},
   "outputs": [
    {
     "name": "stdout",
     "output_type": "stream",
     "text": [
      "10\n",
      "10\n",
      "11\n",
      "11\n"
     ]
    }
   ],
   "source": [
    "class sample:\n",
    "    def __init__(self):\n",
    "        self.x=10 # this is instance variable \n",
    "    def modify(self):\n",
    "        self.x+=1\n",
    "        return self.x\n",
    "\n",
    "s1=sample()\n",
    "s2=sample()\n",
    "print(s1.x)\n",
    "print(s2.x)\n",
    "a=s1.modify()\n",
    "b=s2.modify()\n",
    "print(a)\n",
    "print(b)\n",
    "# please observe  above program s1 is modified it will print 10 ans \n",
    "# when we are printing s2 object then it will print 10 so any modification in one instance \n",
    "# it wont effect on other instance "
   ]
  },
  {
   "attachments": {},
   "cell_type": "markdown",
   "metadata": {},
   "source": [
    "Static variable or class varible"
   ]
  },
  {
   "cell_type": "code",
   "execution_count": 5,
   "metadata": {},
   "outputs": [
    {
     "name": "stdout",
     "output_type": "stream",
     "text": [
      "10\n",
      "10\n",
      "11\n",
      "12\n"
     ]
    }
   ],
   "source": [
    "class sample:\n",
    "    x=10\n",
    "    @staticmethod\n",
    "    def modify():\n",
    "        sample.x+=1\n",
    "        return sample.x\n",
    "s1=sample()\n",
    "s2=sample()\n",
    "print(s1.x)\n",
    "print(s2.x)\n",
    "\n",
    "a=s1.modify()\n",
    "b=s2.modify()\n",
    "print(a)\n",
    "print(b)\n",
    "\n",
    "\n"
   ]
  },
  {
   "cell_type": "code",
   "execution_count": 1,
   "metadata": {},
   "outputs": [
    {
     "name": "stdout",
     "output_type": "stream",
     "text": [
      "Make: Toyota, Model: Camry, Year: 2020\n",
      "Make: Honda, Model: Civic, Year: 2019\n"
     ]
    }
   ],
   "source": [
    "class Car:\n",
    "    def __init__(self, make, model, year):\n",
    "        self.make = make  # Instance variable\n",
    "        self.model = model  # Instance variable\n",
    "        self.year = year  # Instance variable\n",
    "\n",
    "    def display_info(self):\n",
    "        print(f\"Make: {self.make}, Model: {self.model}, Year: {self.year}\")\n",
    "\n",
    "# Creating instances of Car\n",
    "car1 = Car(\"Toyota\", \"Camry\", 2020)\n",
    "car2 = Car(\"Honda\", \"Civic\", 2019)\n",
    "\n",
    "# Accessing and displaying instance variables\n",
    "car1.display_info()  # Output: Make: Toyota, Model: Camry, Year: 2020\n",
    "car2.display_info()  # Output: Make: Honda, Model: Civic, Year: 2019\n"
   ]
  },
  {
   "cell_type": "code",
   "execution_count": 5,
   "metadata": {},
   "outputs": [
    {
     "name": "stdout",
     "output_type": "stream",
     "text": [
      "Buddy\n",
      "Max\n",
      "3\n",
      "5\n",
      "Charlie\n",
      "6\n",
      "3\n",
      "Max\n",
      "Charlie is barking!\n",
      "Max is barking!\n"
     ]
    }
   ],
   "source": [
    "class Dog:\n",
    "    def __init__(self, name, age):\n",
    "        self.name = name  # Instance variable for the dog's name\n",
    "        self.age = age    # Instance variable for the dog's age\n",
    "\n",
    "    def bark(self):\n",
    "        print(f\"{self.name} is barking!\")\n",
    "\n",
    "# Create two instances of the Dog class\n",
    "dog1 = Dog(\"Buddy\", 3)\n",
    "dog2 = Dog(\"Max\", 5)\n",
    "\n",
    "# Access and modify instance variables\n",
    "print(dog1.name)  # Output: Buddy\n",
    "print(dog2.name)  # Output: Max\n",
    "\n",
    "print(dog1.age)   # Output: 3\n",
    "print(dog2.age)   # Output: 5\n",
    "\n",
    "# Modify instance variable for dog1\n",
    "dog1.name = \"Charlie\"\n",
    "print(dog1.name)  # Output: Charlie\n",
    "\n",
    "# Modify instance variable for dog2\n",
    "dog2.age = 6\n",
    "print(dog2.age)   # Output: 6\n",
    "\n",
    "# Both instances have their separate instance variables\n",
    "print(dog1.age)   # Output: 3\n",
    "print(dog2.name)  # Output: Max\n",
    "\n",
    "# Call the bark method for each dog\n",
    "dog1.bark()  # Output: Charlie is barking!\n",
    "dog2.bark()  # Output: Max is barking!\n"
   ]
  },
  {
   "cell_type": "code",
   "execution_count": 13,
   "metadata": {},
   "outputs": [
    {
     "name": "stdout",
     "output_type": "stream",
     "text": [
      "[[ 8  9 10]]\n"
     ]
    }
   ],
   "source": [
    "\n",
    "import numpy as np\n",
    "nparray = np.array( [[8, 9, 10]])\n",
    " \n",
    "nparra = np.expand_dims(nparray,axis=-1)\n",
    "print(nparray)"
   ]
  },
  {
   "cell_type": "code",
   "execution_count": 4,
   "metadata": {},
   "outputs": [
    {
     "name": "stdout",
     "output_type": "stream",
     "text": [
      "Static variable: 2\n",
      "Instance variable of obj1: 10\n",
      "Instance variable of obj2: 20\n"
     ]
    }
   ],
   "source": [
    "class MyClass:\n",
    "    static_variable = 0\n",
    "\n",
    "    def __init__(self, value):\n",
    "        self.instance_variable = value\n",
    "        MyClass.static_variable += 1\n",
    "\n",
    "# Creating instances of the class\n",
    "obj1 = MyClass(10)\n",
    "obj2 = MyClass(20)\n",
    "\n",
    "# Accessing the static variable\n",
    "print(\"Static variable:\", MyClass.static_variable)  # Output: 2\n",
    "\n",
    "# Accessing instance variables\n",
    "print(\"Instance variable of obj1:\", obj1.instance_variable)  # Output: 10\n",
    "print(\"Instance variable of obj2:\", obj2.instance_variable)  # Output: 20\n"
   ]
  },
  {
   "cell_type": "code",
   "execution_count": 6,
   "metadata": {},
   "outputs": [
    {
     "name": "stdout",
     "output_type": "stream",
     "text": [
      "100\n",
      "20\n"
     ]
    }
   ],
   "source": [
    "class A:\n",
    "    static_variablr = 100# static variable\n",
    "    def fun(self):\n",
    "        print(A.static_variablr)\n",
    "        \n",
    "\n",
    "var=A()\n",
    "var.fun()\n",
    "class BU(A):\n",
    "    def func(self):\n",
    "        A.static_variablr=20\n",
    "        print(A.static_variablr)\n",
    "\n",
    "gui=BU()\n",
    "gui.func()\n",
    "\n",
    "        "
   ]
  },
  {
   "cell_type": "code",
   "execution_count": 6,
   "metadata": {},
   "outputs": [
    {
     "name": "stdout",
     "output_type": "stream",
     "text": [
      "90\n",
      "20\n",
      "90\n",
      "20\n"
     ]
    }
   ],
   "source": [
    "class A:\n",
    "    abc=20\n",
    "    def cu(self):\n",
    "        print(self.abc)\n",
    "\n",
    "    @classmethod\n",
    "    def bi(cls):\n",
    "        print(cls.abc)\n",
    "\n",
    "n=A()\n",
    "b=A()\n",
    "n.abc=90\n",
    "print(n.abc)\n",
    "print(b.abc)\n",
    "n.cu()\n",
    "A.bi()\n",
    "\n"
   ]
  },
  {
   "attachments": {},
   "cell_type": "markdown",
   "metadata": {},
   "source": [
    "Different types of variabe in python"
   ]
  },
  {
   "cell_type": "code",
   "execution_count": 8,
   "metadata": {},
   "outputs": [
    {
     "name": "stdout",
     "output_type": "stream",
     "text": [
      "20\n",
      "20\n",
      "shankar\n"
     ]
    }
   ],
   "source": [
    "a=20# global varianle \n",
    "class Abc:\n",
    "    b=20 #class variable\n",
    "    def __init__(self) -> None:\n",
    "        self.name=\"shankar\"#instance varible \n",
    "    def local_variable():\n",
    "        n=49\n",
    "        print(n)\n",
    "\n",
    "print(a)# printing global variable \n",
    "print(Abc.b)#printing class variable \n",
    "insta_var=Abc()#creating object \n",
    "print(insta_var.name)#printing instance variable \n",
    "\n"
   ]
  },
  {
   "attachments": {},
   "cell_type": "markdown",
   "metadata": {},
   "source": [
    "Class or Static variable "
   ]
  },
  {
   "cell_type": "code",
   "execution_count": 13,
   "metadata": {},
   "outputs": [
    {
     "name": "stdout",
     "output_type": "stream",
     "text": [
      "20\n"
     ]
    }
   ],
   "source": [
    "class static_class:\n",
    "    class_variable=20\n",
    "    @classmethod\n",
    "    def class_maethod(cls):\n",
    "        print(cls.class_variable)\n",
    "\n",
    "static_class.class_maethod()\n"
   ]
  },
  {
   "attachments": {},
   "cell_type": "markdown",
   "metadata": {},
   "source": [
    "Instance variable"
   ]
  },
  {
   "cell_type": "code",
   "execution_count": 3,
   "metadata": {},
   "outputs": [
    {
     "name": "stdout",
     "output_type": "stream",
     "text": [
      "ajay\n",
      "shankar\n",
      "ajay\n"
     ]
    }
   ],
   "source": [
    "class instance_class():\n",
    "    def __init__(self) -> None:\n",
    "        self.name=\"ajay\"\n",
    "\n",
    "    def instance_method(self):\n",
    "        print(self.name)\n",
    "\n",
    "\n",
    "v=instance_class()\n",
    "v1=instance_class()\n",
    "v1.instance_method()\n",
    "v1.name=\"shankar\"#modifieng variable in v1 object\n",
    "v1.instance_method()#it will print modify object\n",
    "v.instance_method()# it wont print modify object\n"
   ]
  },
  {
   "attachments": {},
   "cell_type": "markdown",
   "metadata": {},
   "source": [
    "Instance method and static method"
   ]
  },
  {
   "cell_type": "code",
   "execution_count": 2,
   "metadata": {},
   "outputs": [
    {
     "name": "stdout",
     "output_type": "stream",
     "text": [
      "anay\n",
      "anayvinay\n"
     ]
    }
   ],
   "source": [
    "class instance_method_clas:\n",
    "    name=\"anay\"\n",
    "    def instance_method(self):\n",
    "        print(self.name)\n",
    "    @staticmethod\n",
    "    def con():\n",
    "        print(instance_method_clas.name+\"vinay\")\n",
    "a=instance_method_clas()\n",
    "a.instance_method()\n",
    "a.con()\n"
   ]
  },
  {
   "attachments": {},
   "cell_type": "markdown",
   "metadata": {},
   "source": [
    "Class method "
   ]
  },
  {
   "cell_type": "code",
   "execution_count": 1,
   "metadata": {},
   "outputs": [
    {
     "name": "stdout",
     "output_type": "stream",
     "text": [
      "10\n"
     ]
    }
   ],
   "source": [
    "class static_class:\n",
    "    class_var=10\n",
    "    @classmethod\n",
    "    def staticmethod(cls):\n",
    "        print(cls.class_var)\n",
    "\n",
    "static_class.staticmethod()\n",
    "\n",
    "\n"
   ]
  },
  {
   "attachments": {},
   "cell_type": "markdown",
   "metadata": {},
   "source": []
  },
  {
   "cell_type": "code",
   "execution_count": null,
   "metadata": {},
   "outputs": [],
   "source": []
  }
 ],
 "metadata": {
  "kernelspec": {
   "display_name": "base",
   "language": "python",
   "name": "python3"
  },
  "language_info": {
   "codemirror_mode": {
    "name": "ipython",
    "version": 3
   },
   "file_extension": ".py",
   "mimetype": "text/x-python",
   "name": "python",
   "nbconvert_exporter": "python",
   "pygments_lexer": "ipython3",
   "version": "3.9.13"
  },
  "orig_nbformat": 4
 },
 "nbformat": 4,
 "nbformat_minor": 2
}
