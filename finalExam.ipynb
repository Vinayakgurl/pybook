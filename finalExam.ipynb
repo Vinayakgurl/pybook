{
 "cells": [
  {
   "cell_type": "code",
   "execution_count": 1,
   "metadata": {},
   "outputs": [
    {
     "name": "stdout",
     "output_type": "stream",
     "text": [
      "1 2 3 4 \n",
      "5 6 7 8 \n",
      "9 21 12 34 \n",
      "11 22 33 44 \n"
     ]
    }
   ],
   "source": [
    "matrix=[[1,2,3,4],\n",
    "        [5,6,7,8],\n",
    "        [9,21,12,34],\n",
    "        [11,22,33,44]]\n",
    "for row in matrix:\n",
    "    for element in row :\n",
    "        print(element, end=' ')\n",
    "    print()"
   ]
  },
  {
   "cell_type": "code",
   "execution_count": 3,
   "metadata": {},
   "outputs": [
    {
     "name": "stdout",
     "output_type": "stream",
     "text": [
      "odd numbers  143\n",
      "odd numbers  45\n"
     ]
    }
   ],
   "source": [
    "lst=[]\n",
    "for i in range(10):\n",
    "    lst.append(int(input (\"enter the number \")))\n",
    "\n",
    "for j in lst:\n",
    "    if j%2!=0:\n",
    "        print(\"odd numbers \", j)\n"
   ]
  },
  {
   "cell_type": "code",
   "execution_count": 4,
   "metadata": {},
   "outputs": [
    {
     "data": {
      "text/plain": [
       "600000"
      ]
     },
     "execution_count": 4,
     "metadata": {},
     "output_type": "execute_result"
    }
   ],
   "source": [
    "class Employee:\n",
    "    def __init__(self):\n",
    "        self.name=\"vinayak\"\n",
    "        self.position='data analyst'\n",
    "        self.sallary=50000\n",
    "\n",
    "    def  anual_sal(self):\n",
    "        result=self.sallary*12\n",
    "        return result\n",
    "    \n",
    "a=Employee()\n",
    "a.anual_sal()\n"
   ]
  },
  {
   "cell_type": "code",
   "execution_count": 8,
   "metadata": {},
   "outputs": [
    {
     "name": "stdout",
     "output_type": "stream",
     "text": [
      "Output\n",
      "Lemon\n",
      "Lemon\n",
      "Lemon\n",
      "Lemon\n",
      "Lemon\n",
      "Lemon\n",
      "Lemon\n",
      "Lemon\n",
      "Lemon\n",
      "Orange\n",
      "Orange\n",
      "Orange\n",
      "Orange\n",
      "Orange\n",
      "Orange\n",
      "Orange\n",
      "Orange\n",
      "Orange\n",
      "Orange\n"
     ]
    }
   ],
   "source": [
    "import csv \n",
    "try :\n",
    "    with open(\"C:/Users/Administrator/Desktop/citric.csv\",\"r\")as file :\n",
    "        csv_reader=csv.reader(file)\n",
    "        column_index=2\n",
    "        for row in csv_reader:\n",
    "            try:\n",
    "                column_value=row[column_index]\n",
    "                print(column_value)\n",
    "            except IndexError:\n",
    "                print(f\"colum not found in row :{row}\")\n",
    "            except FileNotFoundError:\n",
    "                print(\"error : the specified file was not found \")\n",
    "except FileNotFoundError:\n",
    "    print(\"error the specified file was not found \")\n",
    "\n",
    "except Exception as e:\n",
    "    print(f\"an erre occured :{str(e)}\")"
   ]
  },
  {
   "cell_type": "code",
   "execution_count": 12,
   "metadata": {},
   "outputs": [
    {
     "name": "stdout",
     "output_type": "stream",
     "text": [
      "[114 160  60  27]\n",
      "[74 97 73 14]\n",
      "[119 157 112  23]\n"
     ]
    }
   ],
   "source": [
    "# Program to multiply two matrices (vectorized implementation)\n",
    "\n",
    "# Program to multiply two matrices (vectorized implementation)\n",
    "import numpy as np\n",
    "# take a 3x3 matrix\n",
    "A = [[12, 7, 3],\n",
    "\t[4, 5, 6],\n",
    "\t[7, 8, 9]]\n",
    "\n",
    "# take a 3x4 matrix\n",
    "B = [[5, 8, 1, 2],\n",
    "\t[6, 7, 3, 0],\n",
    "\t[4, 5, 9, 1]]\n",
    "\n",
    "# result will be 3x4\n",
    "\n",
    "result= [[0,0,0,0],\n",
    "\t\t[0,0,0,0],\n",
    "\t\t[0,0,0,0]]\n",
    "\n",
    "result = np.dot(A,B)\n",
    "\n",
    "for r in result:\n",
    "\tprint(r)\n"
   ]
  }
 ],
 "metadata": {
  "kernelspec": {
   "display_name": "Python 3",
   "language": "python",
   "name": "python3"
  },
  "language_info": {
   "codemirror_mode": {
    "name": "ipython",
    "version": 3
   },
   "file_extension": ".py",
   "mimetype": "text/x-python",
   "name": "python",
   "nbconvert_exporter": "python",
   "pygments_lexer": "ipython3",
   "version": "3.9.17"
  },
  "orig_nbformat": 4
 },
 "nbformat": 4,
 "nbformat_minor": 2
}
