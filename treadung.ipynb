{
 "cells": [
  {
   "cell_type": "code",
   "execution_count": 1,
   "metadata": {},
   "outputs": [
    {
     "name": "stdout",
     "output_type": "stream",
     "text": [
      "Hello\n",
      "Hi\n",
      "Hello\n",
      "Hi\n",
      "Hello\n",
      "Hi\n",
      "Hello\n",
      "Hi\n",
      "Hello\n",
      "Hi\n",
      "Bye\n"
     ]
    }
   ],
   "source": [
    "from time import sleep\n",
    "from threading import *\n",
    "\n",
    "class Hello(Thread):\n",
    "    def run(self):\n",
    "        for i in range(5):\n",
    "            print(\"Hello\")\n",
    "            sleep(1)\n",
    "\n",
    "\n",
    "class Hi(Thread):\n",
    "    def run(self):\n",
    "        for i in range(5):\n",
    "            print(\"Hi\")\n",
    "            sleep(1)\n",
    "\n",
    "\n",
    "t1 = Hello()\n",
    "t2 = Hi()\n",
    "\n",
    "t1.start()\n",
    "sleep(0.2)\n",
    "t2.start()\n",
    "\n",
    "t1.join()\n",
    "t2.join()\n",
    "\n",
    "print(\"Bye\")"
   ]
  },
  {
   "cell_type": "code",
   "execution_count": 38,
   "metadata": {},
   "outputs": [
    {
     "name": "stdout",
     "output_type": "stream",
     "text": [
      "hi\n",
      "good morning\n",
      "hi\n",
      "good morning\n",
      "hi\n",
      "good morning\n",
      "hi\n",
      "good morning\n",
      "hi\n",
      "good morning\n",
      "bye\n"
     ]
    }
   ],
   "source": [
    "from threading import *\n",
    "from time import sleep\n",
    "class tread(Thread):\n",
    "    def run(self):\n",
    "        for  i in range(5):\n",
    "            print(\"hi\")\n",
    "            sleep(1)\n",
    "\n",
    "class tread2(Thread):\n",
    "    def run(self):\n",
    "        for i in range(5):\n",
    "            print(\"good morning\")\n",
    "            sleep(1)\n",
    "\n",
    "a=tread()\n",
    "b=tread2()\n",
    "a.start()\n",
    "sleep(.2)\n",
    "b.start()\n",
    "a.join()\n",
    "b.join()\n",
    "print(\"bye\")\n",
    "\n",
    "\n",
    "\n",
    "\n",
    "\n"
   ]
  },
  {
   "cell_type": "code",
   "execution_count": 44,
   "metadata": {},
   "outputs": [
    {
     "name": "stdout",
     "output_type": "stream",
     "text": [
      "login\n",
      "sign in\n"
     ]
    },
    {
     "name": "stdout",
     "output_type": "stream",
     "text": [
      "login\n",
      "sign in\n",
      "login\n",
      "sign in\n",
      "login\n",
      "sign in\n",
      "login\n",
      "sign in\n"
     ]
    }
   ],
   "source": [
    "from threading import *\n",
    "from time import *\n",
    "class login(Thread):\n",
    "    def run(self):\n",
    "        for i in range(5):\n",
    "            print(\"login\")   \n",
    "            sleep(1)\n",
    "\n",
    "class signup(Thread):\n",
    "    def run(self):\n",
    "        for i in range(5):\n",
    "            print(\"sign in\")\n",
    "\n",
    "            sleep(1)\n",
    "\n",
    "login_page=login()\n",
    "signup_page=signup()\n",
    "login_page.start()\n",
    "sleep(.2)\n",
    "signup_page.start()\n"
   ]
  },
  {
   "cell_type": "code",
   "execution_count": null,
   "metadata": {},
   "outputs": [],
   "source": []
  }
 ],
 "metadata": {
  "kernelspec": {
   "display_name": "Python 3",
   "language": "python",
   "name": "python3"
  },
  "language_info": {
   "codemirror_mode": {
    "name": "ipython",
    "version": 3
   },
   "file_extension": ".py",
   "mimetype": "text/x-python",
   "name": "python",
   "nbconvert_exporter": "python",
   "pygments_lexer": "ipython3",
   "version": "3.10.9"
  },
  "orig_nbformat": 4
 },
 "nbformat": 4,
 "nbformat_minor": 2
}
